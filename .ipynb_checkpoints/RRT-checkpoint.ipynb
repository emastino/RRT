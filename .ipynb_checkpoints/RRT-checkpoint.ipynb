{
 "cells": [
  {
   "cell_type": "code",
   "execution_count": 5,
   "id": "upset-advisory",
   "metadata": {},
   "outputs": [],
   "source": [
    "import pygame,sys,import_ipynb\n",
    "from pygame.locals import *\n",
    "\n",
    "\n",
    "from RRTbasePy import RRTGraph\n",
    "from RRTbasePy import RRTMap\n"
   ]
  },
  {
   "cell_type": "code",
   "execution_count": 6,
   "id": "modular-opera",
   "metadata": {},
   "outputs": [],
   "source": [
    "def main():\n",
    "    \n",
    "    dimensions = (600,1000)\n",
    "    start = (50,50)\n",
    "    goal = (510,510)\n",
    "    obsdim = 50\n",
    "    obsnum = 75\n",
    "    iteration = 0\n",
    "    \n",
    "    pygame.display.init()    \n",
    "    graph = RRTGraph(start, goal, dimensions,obsdim,obsnum)\n",
    "    mapa  = RRTMap(start,goal, dimensions,obsdim,obsnum)\n",
    "\n",
    "    obstacles = graph.makeObs()\n",
    "    mapa.drawMap(obstacles)\n",
    "\n",
    "    while(iteration < 500):\n",
    "        \n",
    "        if iteration % 10 == 0:\n",
    "            \n",
    "            X,Y, Parent = graph.bias(goal)\n",
    "            pygame.draw.circle(mapa.map,mapa.grey,(X[-1], Y[-1]),mapa.nodeRad+2,0)\n",
    "            pygame.draw.line(mapa.map,mapa.Blue,(X[-1], Y[-1]),(X[Parent[-1]],Y[Parent[-1]]), \n",
    "                            mapa.edgeThickness)\n",
    "            \n",
    "        else:\n",
    "            X,Y, Parent = graph.expand()\n",
    "            pygame.draw.circle(mapa.map,mapa.grey,(X[-1], Y[-1]),mapa.nodeRad+2,0)\n",
    "            pygame.draw.line(mapa.map,mapa.Blue,(X[-1], Y[-1]),(X[Parent[-1]],Y[Parent[-1]]), \n",
    "                            mapa.edgeThickness)\n",
    "            \n",
    "        if iteration % 5 ==0:\n",
    "            pygame.display.update()\n",
    "        iteration +=1\n",
    "        \n",
    "    pygame.display.update()\n",
    "    pygame.event.clear()\n",
    "    pygame.event.wait(0)\n",
    "    "
   ]
  },
  {
   "cell_type": "code",
   "execution_count": 7,
   "id": "remarkable-treasure",
   "metadata": {},
   "outputs": [
    {
     "ename": "TypeError",
     "evalue": "cannot unpack non-iterable method object",
     "output_type": "error",
     "traceback": [
      "\u001b[1;31m---------------------------------------------------------------------------\u001b[0m",
      "\u001b[1;31mTypeError\u001b[0m                                 Traceback (most recent call last)",
      "\u001b[1;32m<ipython-input-7-c7bc734e5e35>\u001b[0m in \u001b[0;36m<module>\u001b[1;34m\u001b[0m\n\u001b[0;32m      1\u001b[0m \u001b[1;32mif\u001b[0m \u001b[0m__name__\u001b[0m \u001b[1;33m==\u001b[0m \u001b[1;34m'__main__'\u001b[0m\u001b[1;33m:\u001b[0m\u001b[1;33m\u001b[0m\u001b[1;33m\u001b[0m\u001b[0m\n\u001b[1;32m----> 2\u001b[1;33m     \u001b[0mmain\u001b[0m\u001b[1;33m(\u001b[0m\u001b[1;33m)\u001b[0m\u001b[1;33m\u001b[0m\u001b[1;33m\u001b[0m\u001b[0m\n\u001b[0m",
      "\u001b[1;32m<ipython-input-6-c49b3c92e1c9>\u001b[0m in \u001b[0;36mmain\u001b[1;34m()\u001b[0m\n\u001b[0;32m     25\u001b[0m \u001b[1;33m\u001b[0m\u001b[0m\n\u001b[0;32m     26\u001b[0m         \u001b[1;32melse\u001b[0m\u001b[1;33m:\u001b[0m\u001b[1;33m\u001b[0m\u001b[1;33m\u001b[0m\u001b[0m\n\u001b[1;32m---> 27\u001b[1;33m             \u001b[0mX\u001b[0m\u001b[1;33m,\u001b[0m\u001b[0mY\u001b[0m\u001b[1;33m,\u001b[0m \u001b[0mParent\u001b[0m \u001b[1;33m=\u001b[0m \u001b[0mgraph\u001b[0m\u001b[1;33m.\u001b[0m\u001b[0mexpand\u001b[0m\u001b[1;33m\u001b[0m\u001b[1;33m\u001b[0m\u001b[0m\n\u001b[0m\u001b[0;32m     28\u001b[0m             \u001b[0mpygame\u001b[0m\u001b[1;33m.\u001b[0m\u001b[0mdraw\u001b[0m\u001b[1;33m.\u001b[0m\u001b[0mcircle\u001b[0m\u001b[1;33m(\u001b[0m\u001b[0mmapa\u001b[0m\u001b[1;33m.\u001b[0m\u001b[0mmap\u001b[0m\u001b[1;33m,\u001b[0m\u001b[0mmapa\u001b[0m\u001b[1;33m.\u001b[0m\u001b[0mgrey\u001b[0m\u001b[1;33m,\u001b[0m\u001b[1;33m(\u001b[0m\u001b[0mX\u001b[0m\u001b[1;33m[\u001b[0m\u001b[1;33m-\u001b[0m\u001b[1;36m1\u001b[0m\u001b[1;33m]\u001b[0m\u001b[1;33m,\u001b[0m \u001b[0mY\u001b[0m\u001b[1;33m[\u001b[0m\u001b[1;33m-\u001b[0m\u001b[1;36m1\u001b[0m\u001b[1;33m]\u001b[0m\u001b[1;33m)\u001b[0m\u001b[1;33m,\u001b[0m\u001b[0mmapa\u001b[0m\u001b[1;33m.\u001b[0m\u001b[0mnodeRad\u001b[0m\u001b[1;33m+\u001b[0m\u001b[1;36m2\u001b[0m\u001b[1;33m,\u001b[0m\u001b[1;36m0\u001b[0m\u001b[1;33m)\u001b[0m\u001b[1;33m\u001b[0m\u001b[1;33m\u001b[0m\u001b[0m\n\u001b[0;32m     29\u001b[0m             pygame.draw.line(mapa.map,mapa.Blue,(X[-1], Y[-1]),(X[Parent[-1]],Y[Parent[-1]]), \n",
      "\u001b[1;31mTypeError\u001b[0m: cannot unpack non-iterable method object"
     ]
    }
   ],
   "source": [
    "if __name__ == '__main__':\n",
    "    main()"
   ]
  }
 ],
 "metadata": {
  "kernelspec": {
   "display_name": "Python 3",
   "language": "python",
   "name": "python3"
  },
  "language_info": {
   "codemirror_mode": {
    "name": "ipython",
    "version": 3
   },
   "file_extension": ".py",
   "mimetype": "text/x-python",
   "name": "python",
   "nbconvert_exporter": "python",
   "pygments_lexer": "ipython3",
   "version": "3.7.9"
  }
 },
 "nbformat": 4,
 "nbformat_minor": 5
}
