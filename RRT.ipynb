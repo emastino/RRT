{
 "cells": [
  {
   "cell_type": "code",
   "execution_count": 4,
   "id": "upset-advisory",
   "metadata": {},
   "outputs": [],
   "source": [
    "import pygame,sys,import_ipynb\n",
    "from pygame.locals import *\n",
    "\n",
    "\n",
    "from RRTbasePy import RRTGraph\n",
    "from RRTbasePy import RRTMap\n"
   ]
  },
  {
   "cell_type": "code",
   "execution_count": 5,
   "id": "modular-opera",
   "metadata": {},
   "outputs": [],
   "source": [
    "def main():\n",
    "    \n",
    "    dimensions = (600,1000)\n",
    "    start = (50,50)\n",
    "    goal = (510,510)\n",
    "    obsdim = 50\n",
    "    obsnum = 75\n",
    "    iteration = 0\n",
    "    \n",
    "    pygame.display.init()    \n",
    "    graph = RRTGraph(start, goal, dimensions,obsdim,obsnum)\n",
    "    mapa  = RRTMap(start,goal, dimensions,obsdim,obsnum)\n",
    "\n",
    "    obstacles = graph.makeObs()\n",
    "    mapa.drawMap(obstacles)\n",
    "\n",
    "    while(True):\n",
    "        pygame.event.get()\n",
    "        \n",
    "        \n",
    "        x,y = graph.sample_env()\n",
    "        n = graph.number_of_nodes()\n",
    "        graph.add_node(n,x,y)\n",
    "        graph.add_edge(n-1,n)\n",
    "        \n",
    "        x1,y1 = graph.x[n], graph.y[n]\n",
    "        x2,y2 = graph.x[n-1], graph.y[n-1]\n",
    "        \n",
    "        if(graph.isFree()):\n",
    "            pygame.draw.circle(mapa.map, mapa.Red, (graph.x[n], graph.y[n]), mapa.nodeRad, mapa.nodeThickness)\n",
    "            \n",
    "            if not graph.crossObstacle(x1,x2,y1,y2):\n",
    "                pygame.draw.line(mapa.map, mapa.Blue, (x1,y1), (x2,y2), mapa.edgeThickness)\n",
    "                \n",
    "                \n",
    "        for event in pygame.event.get():\n",
    "            if event.type == QUIT:\n",
    "   \n",
    "                pygame.display.quit()\n",
    "                sys.exit()\n",
    "        \n",
    "        \n",
    "        pygame.display.update()"
   ]
  },
  {
   "cell_type": "code",
   "execution_count": 6,
   "id": "remarkable-treasure",
   "metadata": {},
   "outputs": [
    {
     "ename": "SystemExit",
     "evalue": "",
     "output_type": "error",
     "traceback": [
      "An exception has occurred, use %tb to see the full traceback.\n",
      "\u001b[1;31mSystemExit\u001b[0m\n"
     ]
    }
   ],
   "source": [
    "if __name__ == '__main__':\n",
    "    main()"
   ]
  }
 ],
 "metadata": {
  "kernelspec": {
   "display_name": "Python 3",
   "language": "python",
   "name": "python3"
  },
  "language_info": {
   "codemirror_mode": {
    "name": "ipython",
    "version": 3
   },
   "file_extension": ".py",
   "mimetype": "text/x-python",
   "name": "python",
   "nbconvert_exporter": "python",
   "pygments_lexer": "ipython3",
   "version": "3.7.9"
  }
 },
 "nbformat": 4,
 "nbformat_minor": 5
}
