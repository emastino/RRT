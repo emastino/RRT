{
 "cells": [
  {
   "cell_type": "code",
   "execution_count": 1,
   "id": "upset-advisory",
   "metadata": {},
   "outputs": [
    {
     "name": "stdout",
     "output_type": "stream",
     "text": [
      "pygame 2.0.1 (SDL 2.0.14, Python 3.7.9)\n",
      "Hello from the pygame community. https://www.pygame.org/contribute.html\n",
      "importing Jupyter notebook from RRTbasePy.ipynb\n"
     ]
    }
   ],
   "source": [
    "import pygame,sys,import_ipynb\n",
    "from pygame.locals import *\n",
    "\n",
    "\n",
    "from RRTbasePy import RRTGraph\n",
    "from RRTbasePy import RRTMap\n"
   ]
  },
  {
   "cell_type": "code",
   "execution_count": 2,
   "id": "modular-opera",
   "metadata": {},
   "outputs": [],
   "source": [
    "def main():\n",
    "    \n",
    "    dimensions = (600,1000)\n",
    "    start = (50,50)\n",
    "    goal = (510,510)\n",
    "    obsdim = 50\n",
    "    obsnum = 75\n",
    "    iteration = 0\n",
    "    \n",
    "    pygame.display.init()    \n",
    "    graph = RRTGraph(start, goal, dimensions,obsdim,obsnum)\n",
    "    mapa  = RRTMap(start,goal, dimensions,obsdim,obsnum)\n",
    "\n",
    "    obstacles = graph.makeObs()\n",
    "    mapa.drawMap(obstacles)\n",
    "\n",
    "    while(True):\n",
    "        x,y = graph.sample_env()\n",
    "        n = graph.number_of_nodes()\n",
    "        graph.add_node(n,x,y)\n",
    "\n",
    "        if(graph.isFree()):\n",
    "            pygame.draw.circle(mapa.map, mapa.Red, (graph.x[n], graph.y[n]), mapa.nodeRad, mapa.nodeThickness)\n",
    "\n",
    "        pygame.display.update()\n",
    "       "
   ]
  },
  {
   "cell_type": "code",
   "execution_count": null,
   "id": "remarkable-treasure",
   "metadata": {},
   "outputs": [],
   "source": [
    "if __name__ == '__main__':\n",
    "    main()"
   ]
  }
 ],
 "metadata": {
  "kernelspec": {
   "display_name": "Python 3",
   "language": "python",
   "name": "python3"
  },
  "language_info": {
   "codemirror_mode": {
    "name": "ipython",
    "version": 3
   },
   "file_extension": ".py",
   "mimetype": "text/x-python",
   "name": "python",
   "nbconvert_exporter": "python",
   "pygments_lexer": "ipython3",
   "version": "3.7.9"
  }
 },
 "nbformat": 4,
 "nbformat_minor": 5
}
