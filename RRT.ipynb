{
 "cells": [
  {
   "cell_type": "code",
   "execution_count": 1,
   "id": "upset-advisory",
   "metadata": {},
   "outputs": [
    {
     "name": "stdout",
     "output_type": "stream",
     "text": [
      "pygame 2.0.1 (SDL 2.0.14, Python 3.7.9)\n",
      "Hello from the pygame community. https://www.pygame.org/contribute.html\n",
      "importing Jupyter notebook from RRTbasePy.ipynb\n"
     ]
    }
   ],
   "source": [
    "import pygame,sys,import_ipynb\n",
    "from pygame.locals import *\n",
    "\n",
    "\n",
    "from RRTbasePy import RRTGraph\n",
    "from RRTbasePy import RRTMap\n"
   ]
  },
  {
   "cell_type": "code",
   "execution_count": 2,
   "id": "modular-opera",
   "metadata": {},
   "outputs": [],
   "source": [
    "def main():\n",
    "    \n",
    "    dimensions = (600,1000)\n",
    "    start = (50,50)\n",
    "    goal = (510,510)\n",
    "    obsdim = 50\n",
    "    obsnum = 75\n",
    "    iteration = 0\n",
    "    \n",
    "    pygame.display.init()    \n",
    "    graph = RRTGraph(start, goal, dimensions,obsdim,obsnum)\n",
    "    mapa  = RRTMap(start,goal, dimensions,obsdim,obsnum)\n",
    "\n",
    "    obstacles = graph.makeObs()\n",
    "    mapa.drawMap(obstacles)\n",
    "    \n",
    "    condition = False\n",
    "    \n",
    "    while(not condition):\n",
    "        \n",
    "        if iteration % 10 == 0:\n",
    "            \n",
    "            X,Y, Parent = graph.bias(goal)\n",
    "            pygame.draw.circle(mapa.map,mapa.grey,(X[-1], Y[-1]),mapa.nodeRad+2,0)\n",
    "            pygame.draw.line(mapa.map,mapa.Blue,(X[-1], Y[-1]),(X[Parent[-1]],Y[Parent[-1]]), \n",
    "                            mapa.edgeThickness)\n",
    "            \n",
    "        else:\n",
    "            X,Y, Parent = graph.expand()\n",
    "            pygame.draw.circle(mapa.map,mapa.grey,(X[-1], Y[-1]),mapa.nodeRad+2,0)\n",
    "            pygame.draw.line(mapa.map,mapa.Blue,(X[-1], Y[-1]),(X[Parent[-1]],Y[Parent[-1]]), \n",
    "                            mapa.edgeThickness)\n",
    "            \n",
    "        if iteration % 5 ==0:\n",
    "            pygame.display.update()\n",
    "        iteration +=1\n",
    "        condition = graph.path_to_goal()\n",
    "        \n",
    "        \n",
    "    mapa.drawPath(graph.getPathCoords())\n",
    "    \n",
    "    \n",
    "    pygame.display.update()\n",
    "    pygame.event.clear()\n",
    "    pygame.event.wait(0)\n",
    "    "
   ]
  },
  {
   "cell_type": "code",
   "execution_count": 3,
   "id": "remarkable-treasure",
   "metadata": {},
   "outputs": [],
   "source": [
    "if __name__ == '__main__':\n",
    "    main()"
   ]
  },
  {
   "cell_type": "code",
   "execution_count": null,
   "id": "handled-looking",
   "metadata": {},
   "outputs": [],
   "source": []
  }
 ],
 "metadata": {
  "kernelspec": {
   "display_name": "Python 3",
   "language": "python",
   "name": "python3"
  },
  "language_info": {
   "codemirror_mode": {
    "name": "ipython",
    "version": 3
   },
   "file_extension": ".py",
   "mimetype": "text/x-python",
   "name": "python",
   "nbconvert_exporter": "python",
   "pygments_lexer": "ipython3",
   "version": "3.7.9"
  }
 },
 "nbformat": 4,
 "nbformat_minor": 5
}
