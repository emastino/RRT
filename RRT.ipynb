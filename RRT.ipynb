{
 "cells": [
  {
   "cell_type": "code",
   "execution_count": 4,
   "id": "metropolitan-village",
   "metadata": {},
   "outputs": [],
   "source": [
    "import pygame,sys,import_ipynb\n",
    "from pygame.locals import *\n",
    "\n",
    "\n",
    "from RRTbasePy import RRTGraph\n",
    "from RRTbasePy import RRTMap\n"
   ]
  },
  {
   "cell_type": "code",
   "execution_count": 5,
   "id": "seventh-johns",
   "metadata": {},
   "outputs": [],
   "source": [
    "def main():\n",
    "    \n",
    "    dimensions = (600,1000)\n",
    "    start = (50,50)\n",
    "    goal = (510,510)\n",
    "    obsdim = 50\n",
    "    obsnum = 75\n",
    "    pygame.display.init()\n",
    "        \n",
    "    graph = RRTGraph(start, goal, dimensions,obsdim,obsnum)\n",
    "    mapa  = RRTMap(start,goal, dimensions,obsdim,obsnum)\n",
    "\n",
    "\n",
    "    obstacles = graph.makeObs()\n",
    "\n",
    "    mapa.drawMap(obstacles)\n",
    "    \n",
    "    while 1:\n",
    "        pygame.event.get()  #\"If you fail to make a call to the event queue \n",
    "                            # for too long, the system may decide your program has locked up\n",
    "        \n",
    "        pygame.display.update()\n",
    "        pygame.event.clear()\n",
    "        pygame.event.wait(0)\n",
    "\n",
    "        for event in pygame.event.get():\n",
    "            if event.type == QUIT:\n",
    "\n",
    "                pygame.display.quit()\n",
    "                sys.exit()\n"
   ]
  },
  {
   "cell_type": "code",
   "execution_count": null,
   "id": "discrete-boring",
   "metadata": {},
   "outputs": [],
   "source": [
    "if __name__ == '__main__':\n",
    "    main()"
   ]
  }
 ],
 "metadata": {
  "kernelspec": {
   "display_name": "Python 3",
   "language": "python",
   "name": "python3"
  },
  "language_info": {
   "codemirror_mode": {
    "name": "ipython",
    "version": 3
   },
   "file_extension": ".py",
   "mimetype": "text/x-python",
   "name": "python",
   "nbconvert_exporter": "python",
   "pygments_lexer": "ipython3",
   "version": "3.7.9"
  }
 },
 "nbformat": 4,
 "nbformat_minor": 5
}
