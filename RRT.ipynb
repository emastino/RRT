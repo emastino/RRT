{
 "cells": [
  {
   "cell_type": "code",
   "execution_count": 1,
   "id": "metropolitan-village",
   "metadata": {},
   "outputs": [
    {
     "name": "stdout",
     "output_type": "stream",
     "text": [
      "pygame 2.0.1 (SDL 2.0.14, Python 3.7.9)\n",
      "Hello from the pygame community. https://www.pygame.org/contribute.html\n",
      "importing Jupyter notebook from RRTbasePy.ipynb\n"
     ]
    }
   ],
   "source": [
    "import pygame\n",
    "import import_ipynb # nee dthis to import ipynb files \n",
    "\n",
    "\n",
    "from RRTbasePy import RRTGraph\n",
    "from RRTbasePy import RRTMap\n"
   ]
  },
  {
   "cell_type": "code",
   "execution_count": 2,
   "id": "seventh-johns",
   "metadata": {},
   "outputs": [],
   "source": [
    "def main():\n",
    "    dimensions = (600,1000)\n",
    "    start = (50,50)\n",
    "    goal = (510,510)\n",
    "    obsdim = 20\n",
    "    obsnum = 36\n",
    "    \n",
    "    pygame.init()\n",
    "    graph = RRTGraph(start, goal, dimensions,obsdim,obsnum)\n",
    "    mapa  = RRTMap(start,goal, dimensions,obsdim,obsnum)\n",
    "   \n",
    "    \n",
    "    obstacles = graph.makeObs()\n",
    "    \n",
    "    mapa.drawMap(obstacles)\n",
    "    \n",
    "    pygame.display.update()\n",
    "    pygame.event.clear()\n",
    "    pygame.event.wait(0)"
   ]
  },
  {
   "cell_type": "code",
   "execution_count": 3,
   "id": "discrete-boring",
   "metadata": {},
   "outputs": [],
   "source": [
    "if __name__ == '__main__':\n",
    "    main()"
   ]
  }
 ],
 "metadata": {
  "kernelspec": {
   "display_name": "Python 3",
   "language": "python",
   "name": "python3"
  },
  "language_info": {
   "codemirror_mode": {
    "name": "ipython",
    "version": 3
   },
   "file_extension": ".py",
   "mimetype": "text/x-python",
   "name": "python",
   "nbconvert_exporter": "python",
   "pygments_lexer": "ipython3",
   "version": "3.7.9"
  }
 },
 "nbformat": 4,
 "nbformat_minor": 5
}
