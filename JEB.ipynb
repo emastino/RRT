{
 "cells": [
  {
   "cell_type": "code",
   "execution_count": 1,
   "id": "thermal-bible",
   "metadata": {},
   "outputs": [
    {
     "name": "stdout",
     "output_type": "stream",
     "text": [
      "pygame 2.0.1 (SDL 2.0.14, Python 3.7.9)\n",
      "Hello from the pygame community. https://www.pygame.org/contribute.html\n"
     ]
    },
    {
     "ename": "SystemExit",
     "evalue": "",
     "output_type": "error",
     "traceback": [
      "An exception has occurred, use %tb to see the full traceback.\n",
      "\u001b[1;31mSystemExit\u001b[0m\n"
     ]
    },
    {
     "name": "stderr",
     "output_type": "stream",
     "text": [
      "c:\\users\\emast\\anaconda3\\envs\\mp\\lib\\site-packages\\IPython\\core\\interactiveshell.py:3435: UserWarning: To exit: use 'exit', 'quit', or Ctrl-D.\n",
      "  warn(\"To exit: use 'exit', 'quit', or Ctrl-D.\", stacklevel=1)\n"
     ]
    }
   ],
   "source": [
    "import sys, pygame\n",
    "from pygame.locals import *\n",
    "pygame.init()\n",
    "\n",
    "size = width, height = 1080, 600\n",
    "speed = [2, 2]\n",
    "black = 0, 0, 0\n",
    "\n",
    "screen = pygame.display.set_mode(size)\n",
    "clock = pygame.time.Clock()\n",
    "\n",
    "image = pygame.image.load(\"jeb.jpg\")\n",
    "\n",
    "image = pygame.transform.scale(image,(300, 300))\n",
    "rect = image.get_rect(center = (width/2,height/2))\n",
    "\n",
    "rot = 0\n",
    "rot_speed = 2\n",
    "\n",
    "\n",
    "\n",
    "while 1:\n",
    "    clock.tick(30)\n",
    "    \n",
    "    for event in pygame.event.get():\n",
    "        if event.type == pygame.QUIT: sys.exit()\n",
    "\n",
    "    \n",
    "    if rect.left < 0 or rect.right > width:\n",
    "        speed[0] = -speed[0]\n",
    "    if rect.top < 0 or rect.bottom > height:\n",
    "        speed[1] = -speed[1]\n",
    "    \n",
    "    \n",
    "    \n",
    "    # making a copy of the old center of the rectangle  \n",
    "    old_center = rect.center  \n",
    "    \n",
    "    # defining angle of the rotation  \n",
    "    rot  = (rot + rot_speed) % 360\n",
    "    rect = rect.move(speed)\n",
    "    \n",
    "    # rotating the orignal image  \n",
    "    new_image = pygame.transform.rotate(image , rot)  \n",
    "    rect = new_image.get_rect()  \n",
    "    \n",
    "    # set the rotated rectangle to the old center  \n",
    "    rect.center = old_center  \n",
    "    \n",
    "    # drawing the rotated rectangle to the screen  \n",
    "    screen.blit(new_image , (width/2,height/2))  \n",
    "    \n",
    "    # flipping the display after drawing everything  \n",
    "    pygame.display.flip()  \n",
    "\n",
    "    screen.fill(black)\n",
    "    "
   ]
  }
 ],
 "metadata": {
  "kernelspec": {
   "display_name": "Python 3",
   "language": "python",
   "name": "python3"
  },
  "language_info": {
   "codemirror_mode": {
    "name": "ipython",
    "version": 3
   },
   "file_extension": ".py",
   "mimetype": "text/x-python",
   "name": "python",
   "nbconvert_exporter": "python",
   "pygments_lexer": "ipython3",
   "version": "3.7.9"
  }
 },
 "nbformat": 4,
 "nbformat_minor": 5
}
